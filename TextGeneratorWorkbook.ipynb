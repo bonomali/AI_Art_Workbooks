{
  "nbformat": 4,
  "nbformat_minor": 0,
  "metadata": {
    "colab": {
      "provenance": []
    },
    "kernelspec": {
      "name": "python3",
      "display_name": "Python 3"
    },
    "language_info": {
      "name": "python"
    },
    "accelerator": "GPU",
    "gpuClass": "standard"
  },
  "cells": [
    {
      "cell_type": "markdown",
      "source": [
        "## Генерирование текста рекуррентными сетями\n",
        "\n",
        "Рассмотрим задачу генерации текста с помощью рекуррентой нейронной сети. Есть два варианта генерации:\n",
        "\n",
        "* **Посимвольно**. В этом случае сеть как бы заново учится читать, при этом возможно создание некоторых новых интересных слов, однако на воспроизведение осмысленного текста требует больше обучающих ресурсов. \n",
        "* **По словам** - в этом случае сеть использует имеющиеся в тексте слова, и учится складывать их вместе.\n",
        "\n",
        "Выбираем используемый способ обучения:"
      ],
      "metadata": {
        "id": "Wp91fH5-6XyO"
      }
    },
    {
      "cell_type": "code",
      "execution_count": 55,
      "metadata": {
        "id": "gcRoTgWe6T6H"
      },
      "outputs": [],
      "source": [
        "char_level = True # посимвольно\n",
        "lower = False # приводить ли всё к нижнему регистру\n",
        "max_words = 10000 # макс.число слов, которое учитывать в тексте (если char_level=False)"
      ]
    },
    {
      "cell_type": "markdown",
      "source": [
        "### Подготовка данных\n",
        "\n",
        "Далее необходимо загрузить текст, на котором мы будем обучаться. Мы будем использовать текст старых ФИДОнет-конференций."
      ],
      "metadata": {
        "id": "WGpnGNDs8epp"
      }
    },
    {
      "cell_type": "code",
      "source": [
        "!wget http://www.soshnikov.com/temp/data/fido7.ru.anekdot.sample.gz\n",
        "!gzip -d fido7.ru.anekdot.sample.gz"
      ],
      "metadata": {
        "colab": {
          "base_uri": "https://localhost:8080/"
        },
        "id": "5XMy86Fv8eEX",
        "outputId": "aedbca85-0d09-4ebf-a328-ae8a57c211af"
      },
      "execution_count": 35,
      "outputs": [
        {
          "output_type": "stream",
          "name": "stdout",
          "text": [
            "--2023-03-19 21:16:10--  http://www.soshnikov.com/temp/data/fido7.ru.anekdot.sample.gz\n",
            "Resolving www.soshnikov.com (www.soshnikov.com)... 79.137.227.122\n",
            "Connecting to www.soshnikov.com (www.soshnikov.com)|79.137.227.122|:80... connected.\n",
            "HTTP request sent, awaiting response... 200 OK\n",
            "Length: 70708194 (67M) [message/news]\n",
            "Saving to: ‘fido7.ru.anekdot.sample.gz.1’\n",
            "\n",
            "        fido7.ru.an   0%[                    ]  44.87K  82.8KB/s               ^C\n",
            "gzip: fido7.ru.anekdot.sample already exists; do you wish to overwrite (y or n)? ^C\n"
          ]
        }
      ]
    },
    {
      "cell_type": "markdown",
      "source": [
        "Загружаем текст из файла в переменную. Мы явно указываем кодировку текста - КОИ-8. Если вы загрузили хороший текст в Unicode - кодировку лучше не указывать."
      ],
      "metadata": {
        "id": "k-FjjJ-S_065"
      }
    },
    {
      "cell_type": "code",
      "source": [
        "text = [x.strip() for x in open('fido7.ru.anekdot.sample','r',encoding='koi8-r').readlines() \n",
        "         if not x.startswith('X-FTN')]\n",
        "text[:15]"
      ],
      "metadata": {
        "colab": {
          "base_uri": "https://localhost:8080/"
        },
        "id": "v62nNPrv8tVA",
        "outputId": "ed016c24-be5a-4dea-ce73-b66a7893f395"
      },
      "execution_count": 56,
      "outputs": [
        {
          "output_type": "execute_result",
          "data": {
            "text/plain": [
              "['From nobody Fri Sep  5 01:16:19 2014',\n",
              " 'Path: news5.aus1.giganews.com!firehose2!nntp4!intern1.nntp.aus1.giganews.com!border1.nntp.aus1.giganews.com!nntp.giganews.com!newsfeed.gamma.ru!Gamma.RU!ddt.demos.su!f400.n5020!f4441.n5020!f52.n5020!f5.n5022!f43.n5022!f59.n5022!f57.n5022!not-for-mail',\n",
              " 'Newsgroups: fido7.ru.anekdot',\n",
              " 'Distribution: fido7',\n",
              " 'X-Comment-To: All',\n",
              " 'Approved: gateway@fido7.ru',\n",
              " 'From: Andrey Chekalin <Andrey.Chekalin@p20.f57.n5022.z2.fidonet.org>',\n",
              " 'Date: Mon, 07 Jul 2003 23:13:14 +0400',\n",
              " 'Subject: test',\n",
              " 'Message-ID: <1057623203@p20.f57.n5022.z2.ftn>',\n",
              " 'Organization: -= Alien Station =-',\n",
              " '400/462',\n",
              " '464/34',\n",
              " '5005/14',\n",
              " '5012/8']"
            ]
          },
          "metadata": {},
          "execution_count": 56
        }
      ]
    },
    {
      "cell_type": "markdown",
      "source": [
        "### Преобразование текста в числа"
      ],
      "metadata": {
        "id": "m2OGhZ2NAT_S"
      }
    },
    {
      "cell_type": "code",
      "source": [
        "import tensorflow as tf\n",
        "from tensorflow import keras\n",
        "import numpy as np\n",
        "\n",
        "tokenizer = keras.preprocessing.text.Tokenizer(char_level=char_level,lower=lower,num_words=max_words)\n",
        "tokenizer.fit_on_texts(['\\n'.join(text[:100000])])\n",
        "vocab_size = min(len(tokenizer.word_index),max_words)\n",
        "print(f\"Vocab size={vocab_size}\")\n",
        "tokenizer.texts_to_sequences(['From: Вася Пупкин'])"
      ],
      "metadata": {
        "colab": {
          "base_uri": "https://localhost:8080/"
        },
        "id": "L8eWM_4y-xyO",
        "outputId": "5f153483-5342-4089-91ee-f5db593a6bca"
      },
      "execution_count": 57,
      "outputs": [
        {
          "output_type": "stream",
          "name": "stdout",
          "text": [
            "Vocab size=200\n"
          ]
        },
        {
          "output_type": "execute_result",
          "data": {
            "text/plain": [
              "[[71, 13, 7, 29, 22, 1, 95, 19, 36, 55, 1, 93, 49, 47, 41, 31, 33]]"
            ]
          },
          "metadata": {},
          "execution_count": 57
        }
      ]
    },
    {
      "cell_type": "code",
      "source": [
        "reverse_map = {val:key for key, val in tokenizer.word_index.items()}\n",
        "\n",
        "def decode(x):\n",
        "    return ('' if char_level else ' ').join([reverse_map[t] for t in x])"
      ],
      "metadata": {
        "id": "zgTgGEqvYvqB"
      },
      "execution_count": 58,
      "outputs": []
    },
    {
      "cell_type": "markdown",
      "source": [
        "Создаём из текста датасет, на котором потом сможем обучать нейросеть."
      ],
      "metadata": {
        "id": "Effp4mAo8wDZ"
      }
    },
    {
      "cell_type": "code",
      "source": [
        "sequence_size = 1024 if char_level else 128 \n",
        "\n",
        "def seq_generator(x,sequence_size=sequence_size,buffer_size=10000):\n",
        "  for sub in range(0,len(x),buffer_size):\n",
        "    t = tokenizer.texts_to_sequences(['\\n'.join(x[sub:sub+buffer_size])])[0]\n",
        "    for i in range(len(t)-sequence_size-1):\n",
        "      yield t[i:i+sequence_size], t[i+1:i+1+sequence_size]\n",
        "\n",
        "ds = tf.data.Dataset.from_generator(lambda : seq_generator(text),output_types=(tf.int32,tf.int32))\n",
        "\n",
        "for x,y in ds.batch(32):\n",
        "  print(x.shape,y.shape)\n",
        "  break\n",
        "\n"
      ],
      "metadata": {
        "colab": {
          "base_uri": "https://localhost:8080/"
        },
        "id": "ipXb1uNAApv0",
        "outputId": "f643a436-3519-4f0b-a467-c20fd69699c2"
      },
      "execution_count": 59,
      "outputs": [
        {
          "output_type": "stream",
          "name": "stdout",
          "text": [
            "(32, 1024) (32, 1024)\n"
          ]
        }
      ]
    },
    {
      "cell_type": "markdown",
      "source": [
        "Определяем архитектуру нейросети. Можно поэкспериментировать с "
      ],
      "metadata": {
        "id": "fQb0tlDf81PL"
      }
    },
    {
      "cell_type": "code",
      "source": [
        "model = keras.models.Sequential([\n",
        "    keras.layers.Embedding(vocab_size,50),\n",
        "    #keras.layers.Bidirectional(keras.layers.LSTM(128,return_sequences=True)),\n",
        "    #keras.layers.Bidirectional(keras.layers.LSTM(128,return_sequences=True)),\n",
        "    keras.layers.LSTM(128,return_sequences=True),\n",
        "    keras.layers.Dense(vocab_size,activation='softmax')\n",
        "])\n",
        "\n",
        "model.summary()\n",
        "model.compile(optimizer='adam',loss='sparse_categorical_crossentropy')"
      ],
      "metadata": {
        "colab": {
          "base_uri": "https://localhost:8080/"
        },
        "id": "rD3lMJVAGuR8",
        "outputId": "122e3ba4-bba3-4dfb-e652-9dba07a95f7c"
      },
      "execution_count": 60,
      "outputs": [
        {
          "output_type": "stream",
          "name": "stdout",
          "text": [
            "Model: \"sequential_4\"\n",
            "_________________________________________________________________\n",
            " Layer (type)                Output Shape              Param #   \n",
            "=================================================================\n",
            " embedding_4 (Embedding)     (None, None, 50)          10000     \n",
            "                                                                 \n",
            " lstm_7 (LSTM)               (None, None, 128)         91648     \n",
            "                                                                 \n",
            " dense_4 (Dense)             (None, None, 200)         25800     \n",
            "                                                                 \n",
            "=================================================================\n",
            "Total params: 127,448\n",
            "Trainable params: 127,448\n",
            "Non-trainable params: 0\n",
            "_________________________________________________________________\n"
          ]
        }
      ]
    },
    {
      "cell_type": "code",
      "source": [
        "def generate(model,size=100,start='Lines: ',temperature=1.0,memory_size=128):\n",
        "        inp = tokenizer.texts_to_sequences([start])[0]\n",
        "        chars = inp\n",
        "        for i in range(size):\n",
        "            out = model(tf.expand_dims(inp,0))[0][-1]\n",
        "            probs = tf.exp(tf.math.log(out)/temperature).numpy().astype(np.float64)\n",
        "            probs = probs/np.sum(probs)\n",
        "            nc = np.argmax(np.random.multinomial(1,probs,1))\n",
        "            chars.append(nc)\n",
        "            inp = inp+[nc]\n",
        "            inp = inp[:memory_size]\n",
        "        return decode(chars)\n",
        "\n",
        "generate(model)"
      ],
      "metadata": {
        "colab": {
          "base_uri": "https://localhost:8080/",
          "height": 35
        },
        "id": "ycNxxXipYir3",
        "outputId": "56e376f4-0c94-43fa-8de6-5c16cbe8a2ce"
      },
      "execution_count": 61,
      "outputs": [
        {
          "output_type": "execute_result",
          "data": {
            "text/plain": [
              "'Lines: +/чOВ┐uИ©Y5у■RЩt|МTЬuB1ЗwmcnoФ┘O/дъЮ-8ПmЯN$l╕[ВПьЯE>N©@И4$шNAd}┐1╦╘r1гС▀]Хш░Ш$ 6t╩Qg\\nf*gюb_3Ф@┐bmЯ\\\\c'"
            ],
            "application/vnd.google.colaboratory.intrinsic+json": {
              "type": "string"
            }
          },
          "metadata": {},
          "execution_count": 61
        }
      ]
    },
    {
      "cell_type": "code",
      "source": [
        "sampling_callback = keras.callbacks.LambdaCallback(\n",
        "  on_epoch_end = lambda batch, logs: print(generate(model,size=500))\n",
        ")\n",
        "\n",
        "model.fit(ds.batch(32),callbacks=[sampling_callback],steps_per_epoch=3000,epochs=10)"
      ],
      "metadata": {
        "colab": {
          "base_uri": "https://localhost:8080/"
        },
        "id": "1RnwL05PX4WM",
        "outputId": "5693ebd8-8079-4704-9f03-663e6de37ffa"
      },
      "execution_count": 62,
      "outputs": [
        {
          "output_type": "stream",
          "name": "stdout",
          "text": [
            "Epoch 1/10\n",
            "3000/3000 [==============================] - ETA: 0s - loss: 1.7148Lines: 7 00 Jull\n",
            "\"Hа бакнивы,  да, пpи экобёй Внейть ичкод оpжво-\n",
            "бом пpочеpя в зажиз колазе конкоть вогоp?\n",
            "\"ОГЛАА шив ЦЯ \"ай с вствиpя сомлючед ямpyшитy пpодвлем нза оpдаё\n",
            "неpеснию пошyте, оли с бкy до насти\"\n",
            "\"Тыволюсьстиникy. Вы (что чего собкой помда!\n",
            "\"Р\n",
            "Кочниз yктпаp!\"И нiташиве нивиpом од желивиствёpь y и пpоевлескаp поpоp выи\n",
            "Изатвеpная одцаpый всостю к y вкого кобЭо?\n",
            "5\n",
            "47.\n",
            "\"Дось жака)И госто-\n",
            "остyкые .\"Hе yт вы бpоеа и заpавить из в тосбел\n",
            "\"Эаенивый из пpимотвеннy-\n",
            "\"Рyб,,\n",
            "ко-\n",
            "\"\"ЯАЯ Г,  пыво-\n",
            "мyд\n",
            "3000/3000 [==============================] - 151s 49ms/step - loss: 1.7148\n",
            "Epoch 2/10\n",
            "2999/3000 [============================>.] - ETA: 0s - loss: 1.0159Lines: f44!news.com!prgacov.net.figanews.com!border1.nntp.aus1.giganews.com!coh!ndt!news.amma.ru!newsfeed.gamma.ru!Gamma.RU!ddt.demos.su!f400.n50!n50!34!f758.n5020!f20.n460!f20.n50!fidorg>\n",
            "Dalizatiov <dred: Dmatr: Skankion: 0003.13 201.z2032.z2.fidon25!intn>\n",
            "OTef forv@p200.n502.n5042.z2.ftn>\n",
            "400/462\n",
            "502/10\n",
            "504003 50\n",
            "Subject: <nontorypr sterli.\n",
            "400/462\n",
            "5042/50\n",
            "5040/1\n",
            "50\n",
            "50\n",
            "Sube: 3: Subeation: gateinntion: ****)_на досмож кенимуется тел, униии загать m. Птим?\n",
            "\n",
            "В\n",
            "Message-ID: <105808042@p24.f22.n5020.z2.fo\n",
            "3000/3000 [==============================] - 140s 47ms/step - loss: 1.0159\n",
            "Epoch 3/10\n",
            "3000/3000 [==============================] - ETA: 0s - loss: 0.7604Lines: 4 Jupl 5000000 03:00:54 +0400\n",
            "Subject: <non\n",
            "4652/16\n",
            "Lines: 15.n5020!f23.n5071!f23.n507183!not-for-mail\n",
            "Newsgroups: fido7.ru.anekdot\n",
            "Distribution: <1058289839@p7.f23.n5071.z2.ftn>\n",
            "400/462\n",
            "70\n",
            "5000/5000\n",
            "30\n",
            "39\n",
            "50\n",
            "5005/15\n",
            "5063/3\n",
            "266\n",
            "5050/16\n",
            "5096/1\n",
            "Lines: 63\n",
            "Xref: intrenyink.vow Usacy.giy@f87.n5071.z2.fidonet.org>\n",
            "Date: Wed, 16 Jul 2003 01:04:09 +0400\n",
            "Subjecut иt::500000003, 0000, pадьл чессегpавает сепеpу идy черон - Жамитекь черива...! То воpдня\n",
            "Message-ID: <1058268970@p7.f2oftn>\n",
            "400/462\n",
            "70\n",
            "5000/500\n",
            "3000/3000 [==============================] - 141s 47ms/step - loss: 0.7604\n",
            "Epoch 4/10\n",
            "2999/3000 [============================>.] - ETA: 0s - loss: 0.6411Lines: 9)s5.f4\n",
            "Prthose2!gnews\n",
            "3.n5090/473.z2.ftn>\n",
            "Organization: Соли 3. Доль Спюсту круте теже увсто не наш угов-то сскойст. Вое это сем, косте певстЬ\n",
            "бень, В не прушел. КВо заветил сокойфкол - гожегате...\n",
            "\n",
            "\n",
            "\n",
            "Fro Sorod K Stash Ty, но пимный.бу нажего мещии, когорогь, Сну иде\n",
            "смотрась, докорра, мно, изовыйит\n",
            "Рубит, на постретвый?\" Поветь 0не вирдо снего песстетваши. Постого но нимой. Тодьет\n",
            "y стеpьсить!\" нушко мнечить, По Бра, слачить говоет Гесt.\n",
            "\n",
            "Fro\n",
            "Sussag of FIam Kozinkozinkoz <sedueew.yo@p86.f23.n5\n",
            "3000/3000 [==============================] - 141s 47ms/step - loss: 0.6413\n",
            "Epoch 5/10\n",
            "3000/3000 [==============================] - ETA: 0s - loss: 0.6548Lines: <n>\n",
            "1016\n",
            "20\n",
            "f4100\n",
            "4033/26\n",
            "72\n",
            "60\n",
            "308\n",
            "35\n",
            "5050/12\n",
            "1436\n",
            "60\n",
            "Lines: 9\n",
            "Xref: intern1.nntp.aus1.giganews.com fido7.ru.anekdot:75118\n",
            "\n",
            "╔, 190/2 40 +0400\n",
            "Subject: 21/июр/2003, аиворвелениято С застима джежиц вен\n",
            "- час задержей раготажест: Заста таку дередочем гепложуной куную сплашаюсс и вдрот гд зачаств-\n",
            "- \" так подетахо леньюлестие и я престая стужает нет абест о с айдевать! Потрок удри терльну сворец и грасторя\n",
            "зелеря т Bй рубаеть воворозне?\n",
            "- Приханчетае.\n",
            "Поивстом сторывают, ва нажиктенкогy сapастид. П\n",
            "3000/3000 [==============================] - 141s 47ms/step - loss: 0.6548\n",
            "Epoch 6/10\n",
            "3000/3000 [==============================] - ETA: 0s - loss: 0.6776Lines: Fil\n",
            "Newsgroups: fido7.ru\n",
            "From: Andrew Usachov <Andrew.Usachov@f87.n5100.z2.fidonet.org>\n",
            "Date: Fidt Ju яза нвым ловритает: 9дыкса, тачку дрозновый - бэпа тpика соpодсто стьяваютсясе тадыет дапиченкий купестаротём блондиткуй бэтотьшим, загуга мистимойсь. :\n",
            "AU> --─------------------------------------------------\n",
            "Я ты бэтому фим.fent [Usstathingato C\n",
            "Gomandt 39 Ju 2220.12 +0400\n",
            "Subject: 24/июв.p, дуть\" поста пиговоет pедpут на поскиет. Вдо экоpот pас поРожел - у то детасткихишая\n",
            "/700\n",
            "Message-ID: <40\n",
            "3000/3000 [==============================] - 141s 47ms/step - loss: 0.6776\n",
            "Epoch 7/10\n",
            "3000/3000 [==============================] - ETA: 0s - loss: 0.6603Lines: feddeed!news5.earous1.n60!finet.feed.giganews.com!border3.nntp.aus1.giganews.com!nntp.giganews.com!nntp1.ecganews.com!nntp1.fuse.net!newsfeed.gamme.gamma.RU!eat.net!newsfeed.gamma.ru!Gamma.RU!ddt.demos.su!f400.n5020!f4441.n5020!f52.n5020!f113.n5100!f87.n5100!not-for-mail\n",
            "Newsgroups: fido7.ru.anekdot\n",
            "Distribution: fido7\n",
            "X-Comment-To: All\n",
            "Approved: gateway@fido7.ru\n",
            "From: dat39 Jus1.giganews.com fido7.ru.anekdot:75357\n",
            "\n",
            "╔═[■]════════════════════════[ Hello All! ]═══════─────────--─--─-\n",
            "\n",
            "W-пьлачино п\n",
            "3000/3000 [==============================] - 142s 47ms/step - loss: 0.6603\n",
            "Epoch 8/10\n",
            "2999/3000 [============================>.] - ETA: 0s - loss: 0.6090Lines: Mihonet.nuthinbutnews.com!nycblbutnews.com!newsfeed.gamma.ru.anekdot:74!nntp.giganews.com!newsfeed.gamma.ru.Geling.nuthinbutnews.com!nyote-veev.demos.su!f400.n5020!f4441.n5020!f52.n5020!f113.n5100!f87.n5100!not-for-mail\n",
            "Newsgeers-out.visi.net!newsfeed.gamma.ru!Gamma.RU!ddt.demos.su!f400.n5020!f4441.n5020!f52.n5020!f115.n5030!f112.n5030!f1.n5008!not-for-mail\n",
            "Newsgroups: fido7.ru.anekdot\n",
            "Distribution: fido7\n",
            "X-Comment-To: All\n",
            "Approved.mate: gatED: Andrew Usachov <Andrew.Usachov@f87.n5100.z2.fidonet\n",
            "3000/3000 [==============================] - 141s 47ms/step - loss: 0.6089\n",
            "Epoch 9/10\n",
            "3000/3000 [==============================] - ETA: 0s - loss: 0.7817Lines: 5.n5020!f1.n5071!f23.n5071!not-for-mail\n",
            "Newsgroups: fido7.ru.anekdo7.ru.antern.Su.ru.Katiko@p7.f23.n5071.z2.fidonet.org>\n",
            "Date: Tue, 05 Aug 2003 62:39 +0400\n",
            "Subject: <none>\n",
            "Message-ID: <106007755235@p7.f23.n5071.z2.ftn>\n",
            "400/462\n",
            "220\n",
            "75\n",
            "5011/13\n",
            "5020/37 40\n",
            "3920\n",
            "47 35\n",
            "5021/13\n",
            "5015/7\n",
            "5053/13\n",
            "5020/37 40\n",
            "362\n",
            "1336\n",
            "99\n",
            "953\n",
            "47 50\n",
            "5045/7\n",
            "5053/16 18\n",
            "80\n",
            "128\n",
            "90\n",
            "5077/33\n",
            "Lines: 16\n",
            "Xref: intern1.nntp.aus1.giganews.com fido7.ru.anekdot:75586\n",
            "\n",
            "Hi, All\n",
            "\n",
            "Hig All\n",
            "\n",
            "- Frig VKr  ощо я дpяму иго неслишь голои пpолудстаят п\n",
            "3000/3000 [==============================] - 141s 47ms/step - loss: 0.7817\n",
            "Epoch 10/10\n",
            "3000/3000 [==============================] - ETA: 0s - loss: 0.7160Lines: 5\n",
            "467/62\n",
            "74\n",
            "Lines: 23\n",
            "Xref: intern1.nntp.aus1.giganews.com fido7.ru.anekdot:75716\n",
            "\n",
            "Пpаволи нактивайниениемуют.\n",
            "Стоpечца, у двись нимаю алушенстам накучшиниозыльминие;\n",
            "\n",
            "Д: Modot (Patis: стyн ванекст копеpивнняю;!\n",
            "\n",
            ">         \"->DOTsl!\n",
            "\n",
            "- Запpещдей.\"Hомоеши твем ни моплидипишой пpавились песлект онакать.\n",
            "*\n",
            "*               очхо\n",
            "\n",
            "апилают по нако соpовы оп)итьст бедькy ALAL> не слидащия бутыешь пpастить о бячти к оuнекдотаекся тользинателся сим костичтуюние фискок Hоосли сущий в кандив колязаться напи\n",
            "3000/3000 [==============================] - 141s 47ms/step - loss: 0.7160\n"
          ]
        },
        {
          "output_type": "execute_result",
          "data": {
            "text/plain": [
              "<keras.callbacks.History at 0x7f297e16bc40>"
            ]
          },
          "metadata": {},
          "execution_count": 62
        }
      ]
    },
    {
      "cell_type": "code",
      "source": [
        "def print_output(x):\n",
        "  for t in x.split('\\n'):\n",
        "    print(t)\n",
        "\n",
        "for temp in [0.8,0.9,1]:\n",
        "  print(f'=== temperature: {temp} ===')\n",
        "  print_output(generate(model,start='Lines:',size=6000,temperature=temp))"
      ],
      "metadata": {
        "colab": {
          "base_uri": "https://localhost:8080/"
        },
        "id": "jX944qggZshT",
        "outputId": "0a9746ac-c1c7-4bdf-a948-3a49444942f3"
      },
      "execution_count": null,
      "outputs": [
        {
          "output_type": "stream",
          "name": "stdout",
          "text": [
            "=== temperature: 0.8 ===\n",
            "Lines:7.u4!ron-xtidot!easynews.com!easynews.com!easynews!news.runnet.ru!news-zero.demos.su!ddt.demos.su!f400.n5020!f4401.n5020!f52.n5020!f174.n469!f52.n5020!f930.nus1.giganews.com!border1.nntp.aus1.giganews.com!nntp.giganews.com!newsfeed.runnet.ru!news-zero.demos.su!ddt.demos.su!f400.n5020!f4441.n5020!f52.n5020!f4441.n5020!f52.n5020!f220.n463!f4.n4504.z2.frn>\n",
            "Organizator.of.RU.ANEKDOT@f32.n468.z2.fidonet.org>\n",
            "Date: Sun, 10 Aug 2003 11:44:05 +0400\n",
            "Subject: -Даниконфаpпами нам наказывается анекомиливаятоговствитсяк дессить получать как сонфем.\n",
            "- Мопимеником,  не дако полмечается пpавлиние попpетела о накают\n",
            "pyчикие бъеpя\n",
            "допельмие pе-таникноговильется песлазилсение пистоо какиз всегок Попистопи дне чеpом пpавились пись бyдоние писекхи, копомить копpашовие, конфегpотек.\n",
            "\n",
            "F>                                                                                      нас напигиваться то бyдетается, пpавил не кодпим - lix углаегли на учто назамается то пpавилимы имочлет\n",
            "[ BolE][ Попpадание\n",
            "лазитмиться топиховают пись yбитсоков допpещециись аниканика тольки наплиать покпренн наказывается пpавилаюсь бидетоп, болнено нави пpавели.\n",
            "\n",
            "\n",
            "\n",
            ">                                         - таpемелается то ведеpа ослечаю \"наканика к солько такает потвие RU.ANEKDOT\n",
            "Message-ID: <10600504409@f32.n469.z2.ftn>\n",
            "Organization: Еси Munderakopу BemsN\n",
            "Notpy.\n",
            "\n",
            "\n",
            "Если  исть то поледать в накскается\n",
            "пись к чтини - ответии пpиватью, в дамения пpивискетала ооклучается в пpаз\n",
            "\n",
            "From nobody Fri Sep  5 01:18:30 2014\n",
            "Path: news5.aus1.giganews.com!firehose2!nntp4!intern1.nntp.aus1.giganews.com!border1.nntp.aus1.giganews.com!nntp.giganews.com!newsfeed1.easynews.com!newsfeed.rt.ru!news.rosnet.ru!rosnet!news.rasnet.ru!news-zero.demos.su!ddt.demos.su!f400.n5020!f4441.n5020!f52.n5020!f220.n463!f32.n468!f32.n468!not-for-mail\n",
            "Newsgroups: fido7.ru.anekdot\n",
            "Distribution: fido7\n",
            "X-Comment-To: All\n",
            "Approved: gateway@fido7.ru\n",
            "From: \"Moderator of RU.ANEKDOT\"\n",
            "U.rrger.Komaf.rU!news-zero.demos.su!ddt.demos.su!f400.n5020!f4441.n5020!f52.n5020!f220.n468!f32.n468!not-for-mail\n",
            "Newsgroups: fido7.ru.anekdot\n",
            "Distributo7.ru\n",
            "From: Igor Zor RurNech 00ff179.u25)\n",
            "\n",
            "Hi. Aleandanews- Furinaternon: U$Anegoro------------\n",
            "-----------------------------------------------------------------------------------------------------------------------------------------------------------------------------------------------------------------------------------------------------------------------------------------------------------------------------------------------------------------------------------------------------------------------------------------------------------------------------------------------------------------------------------------------------------------------------------------------------------------------------------------------------------------------------------------------------------------------------------------------------------------------------------------------------------------------------------------------------------------------------------------------------------------------------------------------------------------------------------------------------------------------------------------------------------------------------------к-~ll~.\n",
            ">        М\n",
            "тогда а \"Вать дак поде нидома анекдотоpачит, письмения отвенытами соказвицси\n",
            "Модеpатьтали сопоти от немазыватьякийся этовают\n",
            "не.. Мопбение сопpедатска напкание таке аубектоpлиния запишь пpивелию наказать, наки назилопpанинино.\n",
            "Встать наки показатанекда устидвичшенипая ... Wede [INEe\n",
            "> двем писпpещено в его пpавеливать таками анекффpом онфиеме четутью наки запкоpатмения не пестко. Только пойста.\n",
            "(    \n",
            "          \"том не устима постин отвотше RU.ANEKDOT\n",
            "Neerauthinternon: fidonet.ftn>\n",
            "Organization: Спестемается и не кодетом не амения пpикол изнаятается сопpешивать нет, окpекаются то пpосои, наказовить дolто оффтpамие пpедлего\n",
            "520\n",
            "Newsgrou RU.ANEKDOT поедфимо, опиломатнфяючик оффтопутиpно на нежимания что пестком У попpашин копpома пpеделиючто, писполодом, All*  пpедей пpекующий надом и нение ми pазут\n",
            "аpише RU.ANEKDOT 59:50 2014\n",
            "Pathitlont.ru!news.restistreelely.net!news.rosnet.ru!news.rosnet.ru!rosnet!news.runnet.ru!news-zero.demos.su!ddt.demos.su!f400.n5020!f4401.n5020!f52.n5020!f220.n463!f10.n463!f52.n5020!f220.n463!f10.n468.z2.fidenet.fi!news1.snet.demos.su!ddt.demos.su!f400.n5020!f4441.n5020!f52.n5020!f52.n5023!f27.n5006!not-for-mail\n",
            "Newsgroups: fido7.ru.anekdot\n",
            "Distribution: fido7\n",
            "X-Comment-To: All\n",
            "Approved: gateway@fido7.ru\n",
            "From: Mara Rody Alexden\n",
            "Секдатанатмы нает к наpавающию напидат5\n",
            "Message-ID: <1060910189@f32.n468.z2.ftn>\n",
            "Organization: RU.ANEKDOT\"\n",
            "\n",
            "- Соодеpатошь больше, по такое и  дупищение амечающим накомиема.\n",
            "[С] (akiu                                                                         коспись пооне долечтом к спо пpавили дак соп эли в долекдpотом такой амисьме - анеком ни сопy.\n",
            "\n",
            "\n",
            ">                                        нек дакается ил в сполько (только канавска. Сопопитазаpом коффтеля\n",
            "Message-ID: <1060509139@f22.n468.z2.ftn>\n",
            "Organization: \"ouarntati.ros.runor.fuiang.RU.ANEKDO Suchellono Evectorrnov   Ububje trepysitet:70\n",
            "News yil\n",
            "[-ho~e Mine Origin'\n",
            "[+]  Body.nonom fido7\n",
            "X-Comment-To: All\n",
            "Approved: gateway@fido7.ru\n",
            "From: Maxa hasteron-\n",
            "-------------------------------------------------------------------------------------------------------------------------------------------------------------------------------------------------------------------------------------------------------------------------------------------------------------------------------------------------------------------------------------------------------------------------------------------------------------------------------------------------------------------------------------------------------------------------------------------------------------------------------------------------------------------------------------------------------------------------------------------------------------------------------------------------------------------\n",
            "=== temperature: 0.9 ===\n",
            "Lines:1.u202.f22.n5020!fu41.n5000.z2.fidonet.org>\n",
            "Date: Sun, 10 Aug 2003 11:41:46 +0400\n",
            "Subject: Сако\n",
            "520\n",
            "457/64\n",
            ">5 21\n",
            "5065/7\n",
            "5053/16\n",
            "136\n",
            "715\n",
            "5087/4\n",
            "Lines: 16\n",
            "Xref: intern1.nntp.aus1.giganews.com fido7.ru.anekdot:75710\n",
            "\n",
            "Hi.sl!Gri.Sr you sorcnestritingi.uy Kozinater: Moranov Alexefero.de.st..rn.t.st.net!news2.ep!news.resti.co.runnet.ru!net!rcn!newsfeed.ruthinbutnews.com!propagator2.news.tess1.nntp.aus1.giganews.com!border3.nntp.aus1.giganews.com!nntp.giganews.com!newsfeed1!eas!news-zero.demos.su!f400.n5020!f4441.n5020!f52.n5020!f220.n463!f10.n468!f52.n5020!f14.n5030!not-for-mail\n",
            "Newsgroups: fido7.ru.anekdot\n",
            "Distribution: fido7\n",
            "X-Comment-To: All\n",
            "Approved: gateway@f25.n5000.z2.10.z2.fidonet.org>\n",
            "Date: Sun, 10 Aug 2003 11:41:46 +0400\n",
            "Subject: 0анинийницапи\n",
            "*\n",
            "\n",
            ">  Моп натое в так, а\n",
            "втопщение пpеденмы назавнезапидь окчетлекpения за настоов намлю-отолее\n",
            "Ornonyatimi  kozinokof  авпишей имения копеpенцие нав\n",
            "поднуй дополнкой, акакатим\n",
            "котушемиющим пиинфеpенции анекоpепльзоди                                                                                                      \",ния RO30.ftion  Стио-поpовечиние полоpеннайе.\"?\n",
            "\n",
            "\n",
            ">      / поститив двти...\n",
            "\n",
            "\n",
            ">                                  Папотpедетья. Таминия, 2 песлучточу.\n",
            "\n",
            "\n",
            ">         \n",
            "\n",
            "\n",
            "Столеком сакдытами имения не наши наказpовшел начиты назовиет.\n",
            "\n",
            "\n",
            "> Вы чтает в &оте.\n",
            "\n",
            "Седей и фаметинается анекдиpется а дот\n",
            "до-ткомикок)\n",
            "\n",
            "До слидакамниестисло наменфость напидания нипyгомегтья\n",
            "в пестьяишь дного если содели\n",
            "пись назвайстведы  в эхо-опpащий отмедетается в за женуесь поледовах! Бол, эхо пис.в сопpаний в ду\n",
            "дом спочилими\n",
            "Hачисно листоивают алечшк поянакьние подденю полечае-ть как-тодений пprываниев.\n",
            "\n",
            "\n",
            ">    \n",
            "\n",
            ">  Мениись писчиф, честь пнакоpательшен\n",
            "5000.16:46 +0400\n",
            "Subjewcy: - BoU\n",
            "Message-ID: <106590404@f32.n462.z2.ftn>\n",
            "Organization: Пpевлем покне насиpа случается дотопельзу настоолачит)\n",
            "\n",
            "From nommenor- to: Moke <**x@fidonews.rer.ntlint.net.ru!news-zeroser.dbe.de!feed.ter.doser.tuia.net!in.1.news.reer.net!news.ronet.fi!news1.spb.sunet.Weru.s.Mushi.bu!news-zero.demos.su!ddt.demos.su!f400.n5020!f4441.n5020!f42.n5000!f44.n500!not-for-mail\n",
            "Newsgroups: fido7.ru.anekdot\n",
            "Distribution: fido7\n",
            "X-Comment-To: All\n",
            "Approved: gateway@fido7.ru\n",
            "From: Maro Rode Evegere-sterbingov.\n",
            "- [+] Bderap)\n",
            "\n",
            "From: Nee yus Auxfin\n",
            "*/леpипо окчеpа в полетаться сись псе;- Вачинныесь\n",
            "пpотыp писим попуния                              запpашимы отвютинка фpучто 14 пучек этокакие не кокдеpанатили в таповать нимеpения:\n",
            "3023 10 +040\n",
            "46\n",
            "5045/7\n",
            "520\n",
            "Lines: 17\n",
            "Xref: intern1.nntp.aus1.giganews.com fido7.ru.anekdot:75716\n",
            "-\"С пидpуматили ходаpаминия в пpачить да анекиpе ноствекаютлими сопятытовала\n",
            "Мучеть стам пyчестие стоpошь песь содеpа ваше так мовpами.\n",
            "А. В оффтопи в даня нас начи-ни анакинфати~ по токстью уткpавила учше в обежают\n",
            "к наpотаним пованакуется это неза стоpyшать что в тоpпаетсли всто наказытошиматься конпале то есть поличать наколька отвечаются напилила2\n",
            "t: ALin mesye T- 1 130\n",
            "Mewsgroups: fido7\n",
            "X-Comment-To: All\n",
            "Approved: gateway@fido7.ru\n",
            "From: Andrew Usachov yolearel\n",
            "Prov Ev BorEy Beemel\n",
            "M | WPм типи сижейтие отнетоли к наказыи\n",
            "анекдот 3: анекдет писи тольки содеpенынаются довтиты в тапотовать этолычне -\n",
            "Модать наpения содеpающется пись и Alle! RUMessage-ID: <1060509119@f32.n468.z2.ftn>\n",
            "Organization: Тол некопатьмей как это саком и назделуюсом пиипумещее канцы попpехли\n",
            "пись базывают некдотела\n",
            "толжем в пельзовать такив подпилание-дела недом пpавени от незаноpшиния ихмечае; Мосту\"           I                         C.Q 8 огодоpи;===========================\n",
            "\n",
            "Из---\n",
            "Валаку.\n",
            "бyдетается да что о тyпы по него то бpеднpивается кофавсше~> с тол непеpотшетсли толеpовается последля Песпили поличеком. Топе.\n",
            "[Слмоpстеи\n",
            "им анекдот (акотобфpятиpавкакана идется\n",
            "то пpанимоp пpовалимиемуетился, назкоопоpа дас нап) N RU.ANEKDOT 10:49 +0400\n",
            "5005/168\n",
            "7\n",
            "5000/36\n",
            "43 16\n",
            "813\n",
            "462/530\n",
            "2759\n",
            "Lines: 11\n",
            "Xref: int.ru.prion: fido7\n",
            "X-Comment-To: Auprgovev Linewag@fidos.su!f4!f4441.n5020!f52.n5020!f4441.n5020!f52.n5020!f22.n5000!f5300.n5030!not-for-manikont.sling.nuthinbutnews.com!newsfeed.rt.run!news-zero.demos.su!ddt.demos.su!f4!news-zero.demos.su!ddt.demos.su!f400.n5020!f4441.n5020!f52.n5020!f22.n500.z2.fiecnet.org>\n",
            "Date: 105940/43\n",
            "5utherverst.net!news.rosnet.ru!news.rosnet.ru!news.rosnet.rt.su!news-out.nuthinbutnews.com!newsfeed.rt.ru!news.rosnet.ru!rosnet!newsfeed1.funet.su!news-zero.demos.su!ddt.demos.su!ddt.demos.su!f400.n5020!f4441.n5020!f52.n5020!f440.n5020!ftn>\n",
            "Organintp.belcgonet.com!newsfeed.rungunnt.net!news.res.net.demos.su!ddt.demos.su!f4441.n5020!f52.5003.5023.f1.n5030!f22.n5050!f52.5000!fornender.tuin.nw!news.erling.nuthin.st.camon.su!f400.n5020!f4441.n5020!f52.n5024!f220.n461!f50.n5020!f220.n463!f32.n469.z2.fimasne.st.net.ru!news-out.nuthinbutnews.com!pronef.nes>\n",
            "Organews.com!easynews.com!easynews!news.rerganet.ru!news.tele.de.s.net!news.ronet.fr1.news.rosnet.ru!news-zero.demos.su!ddt.demos.su!f400.n5020!f4441.n5020!f52.n5020!f220.n463!f41.n5020!funo.net.rr-nfeed.rtn>\n",
            "Organews.com!nntp: iugi..frnon.fu!ern-ntp.reef.net!news.resfer.tu!news.rest.sure.nnt.demos.su!ddt.demos.su!f400.n5020!f4441.n5020!f52.n5020!f4441.n5020!f52.n5020!f220.n5030!f44.n5030!not-for-mail\n",
            "Newsgroups: frio..ru!fidon.fu44.aus1.giganews.com!border1.nntp.aus1.giganews.com!nntp.giganews.com!news.runnet.ru!news.rosnet.ru!news-zero.demostru.net!news.rosnet.ru!news.rosnet.ru!news-zero.demost.net!cor.net.ru!news.rosnet.ru!news-zero.demos.su!ddt.demos.su!f400.n5020!f4441.n5020!f52.n5020!f4441.n5020!f52.n5020!f25.n5000!not-for-mail\n",
            "Newsgroups: fido7.ru.anekdot\n",
            "Distribution: fido7\n",
            "X-Comment-To: All\n",
            "Approved: gateway@fido7.ru\n",
            "From: RUMANEKDOT - посоклеет пpавладывается напим начик наказишь ние пpавличания\n",
            "моффям - охвикоя:\n",
            "-->                                                                                    \n",
            "...                               [+] 30 аpим комещеные увсмаю-очкоpого сли модеpшиваютмения пот.в- нем, об заполеpстьт пpенаком анексом:\n",
            "- Мось немшение\n",
            "ь постинается что пеpе писпазавопельзала и тащие ьon.\n",
            "\n",
            "- А МопстьDамое, так ана пpавили \n",
            "=== temperature: 1 ===\n"
          ]
        }
      ]
    },
    {
      "cell_type": "code",
      "source": [],
      "metadata": {
        "id": "O6apEz_k8V8O"
      },
      "execution_count": null,
      "outputs": []
    }
  ]
}